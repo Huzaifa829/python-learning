{
 "cells": [
  {
   "cell_type": "code",
   "execution_count": 3,
   "metadata": {},
   "outputs": [
    {
     "name": "stdout",
     "output_type": "stream",
     "text": [
      "[0, 2, 4, 6, 8, 10]\n"
     ]
    }
   ],
   "source": [
    "numbers= range(11)\n",
    "even_number =[num for num in numbers if num % 2 == 0]\n",
    "print(even_number)"
   ]
  },
  {
   "cell_type": "code",
   "execution_count": 3,
   "metadata": {},
   "outputs": [
    {
     "name": "stdout",
     "output_type": "stream",
     "text": [
      "['AHMED', 'ALI', 'HASAN']\n"
     ]
    }
   ],
   "source": [
    "word = [\"huzaifa\",\"ahmed\",\"ali\",\"hasan\"]\n",
    "upper_word = [words.upper() for words in word if words != \"huzaifa\"]\n",
    "print(upper_word)"
   ]
  },
  {
   "cell_type": "code",
   "execution_count": 4,
   "metadata": {},
   "outputs": [
    {
     "name": "stdout",
     "output_type": "stream",
     "text": [
      "<class 'str'>\n"
     ]
    }
   ],
   "source": [
    "greek = \"hello, Data Science!\"\n",
    "print(type(greek))"
   ]
  },
  {
   "cell_type": "code",
   "execution_count": 6,
   "metadata": {},
   "outputs": [
    {
     "name": "stdout",
     "output_type": "stream",
     "text": [
      "123\n",
      "123.0\n"
     ]
    }
   ],
   "source": [
    "check = 123\n",
    "print(int(check))\n",
    "print(float(check))"
   ]
  },
  {
   "cell_type": "code",
   "execution_count": 7,
   "metadata": {},
   "outputs": [
    {
     "name": "stdout",
     "output_type": "stream",
     "text": [
      "{'name': 'huzaifa', 'age': '123'}\n"
     ]
    }
   ],
   "source": [
    "nam = input(\"enter name\")\n",
    "age = input(\"Enter age\")\n",
    "print({\n",
    "    \"name\": nam,\n",
    "    \"age\": age\n",
    "})"
   ]
  },
  {
   "cell_type": "code",
   "execution_count": 9,
   "metadata": {},
   "outputs": [
    {
     "name": "stdout",
     "output_type": "stream",
     "text": [
      "24\n"
     ]
    }
   ],
   "source": [
    "fav_num = int(input(\"Enter fav number\"))\n",
    "add = fav_num * 2\n",
    "\n",
    "print(add)"
   ]
  },
  {
   "cell_type": "code",
   "execution_count": 26,
   "metadata": {},
   "outputs": [
    {
     "name": "stdout",
     "output_type": "stream",
     "text": [
      "['HUXZAIFA', 'AHMED', 'HELOO', 'awesome']\n"
     ]
    }
   ],
   "source": [
    "name2 = input(\"Enter name\")\n",
    "new_name = name2.upper().split()\n",
    "new_name[len(new_name)-1] = \"awesome\"\n",
    "print(new_name)\n"
   ]
  },
  {
   "cell_type": "code",
   "execution_count": 28,
   "metadata": {},
   "outputs": [
    {
     "name": "stdout",
     "output_type": "stream",
     "text": [
      "{'a': 4, 'e': 2, 'i': 2, 'o': 0, 'u': 1}\n"
     ]
    }
   ],
   "source": [
    "vowel_check = \"my name is huzaifa ahmed\"\n",
    "vowel =\"aeiou\"\n",
    "\n",
    "vowel_count = {vowel: vowel_check.count(vowel) for vowel in vowel}\n",
    "print(vowel_count)"
   ]
  },
  {
   "cell_type": "code",
   "execution_count": 29,
   "metadata": {},
   "outputs": [
    {
     "data": {
      "text/plain": [
       "{'sum': 30, 'product': 200, 'average': 15.0}"
      ]
     },
     "execution_count": 29,
     "metadata": {},
     "output_type": "execute_result"
    }
   ],
   "source": [
    "def sum_functon(value , product):\n",
    "    return {\n",
    "        \"sum\": value + product,\n",
    "        \"product\": value * product,\n",
    "        \"average\": (value + product) / 2\n",
    "    }\n",
    "    \n",
    "sum_functon(10,20)"
   ]
  },
  {
   "cell_type": "code",
   "execution_count": 32,
   "metadata": {},
   "outputs": [
    {
     "name": "stdout",
     "output_type": "stream",
     "text": [
      "its hot\n"
     ]
    }
   ],
   "source": [
    "temp =  31\n",
    "\n",
    "if temp > 30:\n",
    "    print(\"its hot\")\n",
    "elif temp < 10:\n",
    "    print(\"its cold\")\n",
    "else:\n",
    "    print(\"its comfortable\")"
   ]
  },
  {
   "cell_type": "code",
   "execution_count": null,
   "metadata": {},
   "outputs": [],
   "source": []
  }
 ],
 "metadata": {
  "kernelspec": {
   "display_name": "base",
   "language": "python",
   "name": "python3"
  },
  "language_info": {
   "codemirror_mode": {
    "name": "ipython",
    "version": 3
   },
   "file_extension": ".py",
   "mimetype": "text/x-python",
   "name": "python",
   "nbconvert_exporter": "python",
   "pygments_lexer": "ipython3",
   "version": "3.12.4"
  }
 },
 "nbformat": 4,
 "nbformat_minor": 2
}
