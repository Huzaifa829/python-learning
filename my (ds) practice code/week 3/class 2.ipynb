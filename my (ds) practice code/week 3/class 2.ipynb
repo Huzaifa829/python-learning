{
 "cells": [
  {
   "cell_type": "code",
   "execution_count": 9,
   "metadata": {},
   "outputs": [
    {
     "name": "stdout",
     "output_type": "stream",
     "text": [
      "Hello, karachi!\n",
      "Hello, multan!\n",
      "Hello, lahore!\n"
     ]
    }
   ],
   "source": [
    "city  = [\"karachi\",\"multan\",\"lahore\"]\n",
    "\n",
    "for city in city:\n",
    "    print(f\"Hello, {city}!\")"
   ]
  },
  {
   "cell_type": "code",
   "execution_count": 15,
   "metadata": {},
   "outputs": [
    {
     "name": "stdout",
     "output_type": "stream",
     "text": [
      "0 karachi\n",
      "1 multan\n",
      "2 lahore\n"
     ]
    }
   ],
   "source": [
    "city2  = [\"karachi\",\"multan\",\"lahore\"]\n",
    "for vvv ,aaa in enumerate(city2):\n",
    "    print(vvv,aaa)\n",
    "    "
   ]
  },
  {
   "cell_type": "code",
   "execution_count": null,
   "metadata": {},
   "outputs": [],
   "source": []
  }
 ],
 "metadata": {
  "kernelspec": {
   "display_name": "base",
   "language": "python",
   "name": "python3"
  },
  "language_info": {
   "codemirror_mode": {
    "name": "ipython",
    "version": 3
   },
   "file_extension": ".py",
   "mimetype": "text/x-python",
   "name": "python",
   "nbconvert_exporter": "python",
   "pygments_lexer": "ipython3",
   "version": "3.12.4"
  }
 },
 "nbformat": 4,
 "nbformat_minor": 2
}
