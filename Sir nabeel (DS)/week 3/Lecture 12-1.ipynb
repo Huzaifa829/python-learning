{
 "cells": [
  {
   "cell_type": "markdown",
   "metadata": {},
   "source": [
    "Task for For Loop Lecture"
   ]
  },
  {
   "cell_type": "markdown",
   "metadata": {},
   "source": [
    "Task 01:\n",
    "Write a Python program that\n",
    "\n",
    "- Takes a list of names as input.\n",
    "- Prints names with odd index only."
   ]
  },
  {
   "cell_type": "markdown",
   "metadata": {},
   "source": [
    "Task 02: Take a text paragraph input from user: \n",
    "    count the number of occurence of each vowel in the paragraph"
   ]
  },
  {
   "cell_type": "code",
   "execution_count": 9,
   "metadata": {},
   "outputs": [
    {
     "name": "stdout",
     "output_type": "stream",
     "text": [
      "Enter a parageaph:  There are four ducks\n"
     ]
    },
    {
     "name": "stdout",
     "output_type": "stream",
     "text": [
      "{'a': 1, 'e': 3, 'i': 0, 'o': 1, 'u': 2, 'A': 0, 'E': 0, 'I': 0, 'O': 0, 'U': 0}\n"
     ]
    },
    {
     "data": {
      "text/plain": [
       "'e'"
      ]
     },
     "execution_count": 9,
     "metadata": {},
     "output_type": "execute_result"
    }
   ],
   "source": [
    "text  = input(\"Enter a parageaph: \")\n",
    "vowels = \"aeiouAEIOU\"\n",
    "vowel_count={}\n",
    "for vowel in vowels:\n",
    "    vowel_count[vowel] = text.count(vowel)\n",
    "\n",
    "\n",
    "print(vowel_count)\n",
    "    \n",
    "winner = max(vowel_count,key=vowel_count.get)\n",
    "winner"
   ]
  },
  {
   "cell_type": "code",
   "execution_count": 11,
   "metadata": {},
   "outputs": [],
   "source": [
    "vowel_count = {'a': 1, 'e': 3, 'i': 0}"
   ]
  },
  {
   "cell_type": "code",
   "execution_count": 3,
   "metadata": {},
   "outputs": [
    {
     "data": {
      "text/plain": [
       "'u'"
      ]
     },
     "execution_count": 3,
     "metadata": {},
     "output_type": "execute_result"
    }
   ],
   "source": []
  },
  {
   "cell_type": "markdown",
   "metadata": {},
   "source": [
    "Now create a program that can find the key with max value in dict"
   ]
  },
  {
   "cell_type": "markdown",
   "metadata": {},
   "source": [
    "# Using enumerate()"
   ]
  },
  {
   "cell_type": "code",
   "execution_count": 5,
   "metadata": {},
   "outputs": [
    {
     "name": "stdout",
     "output_type": "stream",
     "text": [
      "Index: 0, Fruit: apple\n",
      "Index: 1, Fruit: banana\n",
      "Index: 2, Fruit: cherry\n"
     ]
    }
   ],
   "source": [
    "# A list of fruits\n",
    "fruits = ['apple', 'banana', 'cherry']\n",
    "\n",
    "#Using enumerate() to loop through both index and value\n",
    "for index, fruit in enumerate(fruits):\n",
    "    print(f\"Index: {index}, Fruit: {fruit}\")\n",
    "\n",
    "# for fruit in fruits:\n",
    "#     print (fruit)\n"
   ]
  },
  {
   "cell_type": "markdown",
   "metadata": {},
   "source": [
    "Doubling the value of each element at an even index\n"
   ]
  },
  {
   "cell_type": "code",
   "execution_count": 4,
   "metadata": {},
   "outputs": [
    {
     "name": "stdout",
     "output_type": "stream",
     "text": [
      "[20, 20, 60, 40, 100, 60]\n"
     ]
    }
   ],
   "source": [
    "# List of numbers\n",
    "numbers = [10, 20, 30, 40, 50, 60]\n",
    "\n",
    "# Doubling the value of each element at an even index\n",
    "for index, num in enumerate(numbers):\n",
    "    if index % 2 == 0:  # Check if the index is even\n",
    "        numbers[index] = num * 2\n",
    "\n",
    "print(numbers)\n"
   ]
  },
  {
   "cell_type": "markdown",
   "metadata": {},
   "source": [
    "# While Loop"
   ]
  },
  {
   "cell_type": "markdown",
   "metadata": {},
   "source": [
    "while loops are used when the number of iterations is not known in advance and depends on a certain condition being met."
   ]
  },
  {
   "cell_type": "markdown",
   "metadata": {},
   "source": [
    "A while loop keeps repeating as long as a condition remains True. Once the condition becomes False, the loop stops.\n",
    "\n"
   ]
  },
  {
   "cell_type": "code",
   "execution_count": 5,
   "metadata": {},
   "outputs": [
    {
     "name": "stdout",
     "output_type": "stream",
     "text": [
      "0\n",
      "1\n",
      "2\n",
      "3\n",
      "4\n"
     ]
    }
   ],
   "source": [
    "# Example: Basic while loop\n",
    "counter = 0\n",
    "\n",
    "while counter < 5:\n",
    "    print(counter)\n",
    "    counter += 1  # Increment counter to avoid infinite loop\n"
   ]
  },
  {
   "cell_type": "code",
   "execution_count": 6,
   "metadata": {},
   "outputs": [
    {
     "name": "stdout",
     "output_type": "stream",
     "text": [
      "Invalid input. Try again.\n",
      "You entered a valid number: 10\n"
     ]
    }
   ],
   "source": [
    "# Example: Asking for user input until a valid number is entered\n",
    "number = int(input(\"Enter a number between 1 and 10: \"))\n",
    "\n",
    "while number < 1 or number > 10:\n",
    "    print(\"Invalid input. Try again.\")\n",
    "    number = int(input(\"Enter a number between 1 and 10: \"))\n",
    "\n",
    "print(\"You entered a valid number:\", number)\n"
   ]
  },
  {
   "cell_type": "code",
   "execution_count": null,
   "metadata": {},
   "outputs": [],
   "source": [
    "# This loop will run forever because the condition is always True\n",
    "while True:\n",
    "    print(\"This is an infinite loop\")\n"
   ]
  },
  {
   "cell_type": "code",
   "execution_count": 7,
   "metadata": {},
   "outputs": [
    {
     "name": "stdout",
     "output_type": "stream",
     "text": [
      "10\n",
      "9\n",
      "8\n",
      "7\n",
      "6\n",
      "5\n",
      "4\n",
      "3\n",
      "2\n",
      "1\n",
      "Liftoff!\n"
     ]
    }
   ],
   "source": [
    "# Example: Countdown using a while loop\n",
    "count = 10\n",
    "\n",
    "while count > 0:\n",
    "    print(count)\n",
    "    count -= 1\n",
    "\n",
    "print(\"Liftoff!\")\n"
   ]
  },
  {
   "cell_type": "markdown",
   "metadata": {},
   "source": [
    "Task: Keep on asking Guest names until a special char is taken e.g. 'Q'. Save all guest names and print at the end of program"
   ]
  },
  {
   "cell_type": "markdown",
   "metadata": {},
   "source": []
  }
 ],
 "metadata": {
  "kernelspec": {
   "display_name": "base",
   "language": "python",
   "name": "python3"
  },
  "language_info": {
   "codemirror_mode": {
    "name": "ipython",
    "version": 3
   },
   "file_extension": ".py",
   "mimetype": "text/x-python",
   "name": "python",
   "nbconvert_exporter": "python",
   "pygments_lexer": "ipython3",
   "version": "3.12.4"
  }
 },
 "nbformat": 4,
 "nbformat_minor": 4
}
